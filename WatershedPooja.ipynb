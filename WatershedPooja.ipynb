{
  "nbformat": 4,
  "nbformat_minor": 0,
  "metadata": {
    "colab": {
      "name": "WatershedPooja.ipynb",
      "provenance": []
    },
    "kernelspec": {
      "name": "python3",
      "display_name": "Python 3"
    },
    "language_info": {
      "name": "python"
    }
  },
  "cells": [
    {
      "cell_type": "code",
      "execution_count": null,
      "metadata": {
        "colab": {
          "base_uri": "https://localhost:8080/"
        },
        "id": "bvpXghAPH_Gi",
        "outputId": "8252aa39-ee90-4682-d9e0-430f91f5cbf4"
      },
      "outputs": [
        {
          "output_type": "stream",
          "name": "stdout",
          "text": [
            "Mounted at /content/gdrive\n"
          ]
        }
      ],
      "source": [
        "from google.colab import drive\n",
        "drive.mount('/content/gdrive')\n"
      ]
    },
    {
      "cell_type": "code",
      "source": [
        "import numpy as np\n",
        "from skimage.segmentation import watershed,clear_border\n",
        "import scipy.misc\n",
        "import imageio # use im = imageio.imread(_____)\n",
        "from matplotlib import pyplot as plt\n",
        "import scipy.ndimage as ndi\n",
        "import pickle\n",
        "import os\n",
        "from os import listdir\n",
        "from skimage.feature import peak_local_max\n",
        "from skimage.morphology import remove_small_objects,local_maxima,h_maxima\n",
        "from skimage.measure import regionprops,label\n",
        "import matplotlib.patches as mpatches"
      ],
      "metadata": {
        "id": "esjoRWT1IC1U"
      },
      "execution_count": null,
      "outputs": []
    },
    {
      "cell_type": "code",
      "source": [
        "main_path='/content/gdrive/MyDrive/single_cell_segmentation-master'\n",
        "ori_img_path=main_path+'/frcnn_predict'\n",
        "img_list = sorted(listdir(ori_img_path))\n",
        "print(img_list)\n",
        "path_output=main_path+'/output'\n",
        "mask_thres=0.2"
      ],
      "metadata": {
        "colab": {
          "base_uri": "https://localhost:8080/"
        },
        "id": "n1SKs3z3QNrx",
        "outputId": "1b2c6347-3fcb-4f7e-a495-703ec42034a1"
      },
      "execution_count": null,
      "outputs": [
        {
          "output_type": "stream",
          "name": "stdout",
          "text": [
            "['reg_out_exact.tif']\n"
          ]
        }
      ]
    },
    {
      "cell_type": "code",
      "source": [
        "with open(path_output+\"/bndbox.txt\", \"rb\") as fp: # Unpickling\n",
        "    bndbox_traj= pickle.load(fp)\n",
        "print(bndbox_traj)"
      ],
      "metadata": {
        "colab": {
          "base_uri": "https://localhost:8080/",
          "height": 222
        },
        "id": "7XBFAyPKQmNd",
        "outputId": "8190b974-060d-4fe2-d84c-fe006d34dad5"
      },
      "execution_count": null,
      "outputs": [
        {
          "output_type": "error",
          "ename": "FileNotFoundError",
          "evalue": "ignored",
          "traceback": [
            "\u001b[0;31m---------------------------------------------------------------------------\u001b[0m",
            "\u001b[0;31mFileNotFoundError\u001b[0m                         Traceback (most recent call last)",
            "\u001b[0;32m<ipython-input-4-e44b10b6b160>\u001b[0m in \u001b[0;36m<module>\u001b[0;34m()\u001b[0m\n\u001b[0;32m----> 1\u001b[0;31m \u001b[0;32mwith\u001b[0m \u001b[0mopen\u001b[0m\u001b[0;34m(\u001b[0m\u001b[0mpath_output\u001b[0m\u001b[0;34m+\u001b[0m\u001b[0;34m\"/bndbox.txt\"\u001b[0m\u001b[0;34m,\u001b[0m \u001b[0;34m\"rb\"\u001b[0m\u001b[0;34m)\u001b[0m \u001b[0;32mas\u001b[0m \u001b[0mfp\u001b[0m\u001b[0;34m:\u001b[0m \u001b[0;31m# Unpickling\u001b[0m\u001b[0;34m\u001b[0m\u001b[0;34m\u001b[0m\u001b[0m\n\u001b[0m\u001b[1;32m      2\u001b[0m     \u001b[0mbndbox_traj\u001b[0m\u001b[0;34m=\u001b[0m \u001b[0mpickle\u001b[0m\u001b[0;34m.\u001b[0m\u001b[0mload\u001b[0m\u001b[0;34m(\u001b[0m\u001b[0mfp\u001b[0m\u001b[0;34m)\u001b[0m\u001b[0;34m\u001b[0m\u001b[0;34m\u001b[0m\u001b[0m\n\u001b[1;32m      3\u001b[0m \u001b[0mprint\u001b[0m\u001b[0;34m(\u001b[0m\u001b[0mbndbox_traj\u001b[0m\u001b[0;34m)\u001b[0m\u001b[0;34m\u001b[0m\u001b[0;34m\u001b[0m\u001b[0m\n",
            "\u001b[0;31mFileNotFoundError\u001b[0m: [Errno 2] No such file or directory: '/content/gdrive/MyDrive/single_cell_segmentation-master/output/bndbox.txt'"
          ]
        }
      ]
    },
    {
      "cell_type": "code",
      "source": [
        ""
      ],
      "metadata": {
        "id": "K4SQkaPWotM4"
      },
      "execution_count": null,
      "outputs": []
    }
  ]
}